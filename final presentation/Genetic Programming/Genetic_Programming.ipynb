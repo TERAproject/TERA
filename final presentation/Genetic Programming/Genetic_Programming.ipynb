{
 "cells": [
  {
   "cell_type": "markdown",
   "metadata": {},
   "source": [
    "gplearn官方源代码：  https://github.com/trevorstephens/gplearn/tree/main/gplearn  \n",
    "gplearn官方文档说明： https://gplearn.readthedocs.io/"
   ]
  },
  {
   "cell_type": "code",
   "execution_count": 81,
   "metadata": {
    "ExecuteTime": {
     "end_time": "2023-12-12T05:39:12.320676Z",
     "start_time": "2023-12-12T05:39:12.314565Z"
    }
   },
   "outputs": [],
   "source": [
    "import numpy as np\n",
    "import pandas as pd\n",
    "from scipy.stats import rankdata\n",
    "from sklearn.preprocessing import StandardScaler\n",
    "from sklearn.metrics import mean_squared_error\n",
    "from gplearn import genetic\n",
    "from gplearn.functions import make_function\n",
    "from gplearn.genetic import SymbolicTransformer, SymbolicRegressor\n",
    "from gplearn.fitness import make_fitness\n",
    "from sklearn.utils import check_random_state\n",
    "from sklearn.model_selection import train_test_split\n",
    "import warnings\n",
    "\n",
    "warnings.filterwarnings(\"ignore\")"
   ]
  },
  {
   "cell_type": "code",
   "execution_count": 82,
   "metadata": {
    "ExecuteTime": {
     "end_time": "2023-12-12T05:39:23.369809Z",
     "start_time": "2023-12-12T05:39:14.112345Z"
    }
   },
   "outputs": [],
   "source": [
    "# 提取数据\n",
    "stock = pd.read_csv(\"./play_data.csv\")\n",
    "stock = stock[stock[ \"InnerCode\" ].isin( [3]) ].drop(columns=['InnerCode',\"Unnamed: 0\",\"Ifsuspend\" ], axis=1)\n",
    "stock['TradingDay'] = pd.to_datetime( stock['TradingDay'] )"
   ]
  },
  {
   "cell_type": "code",
   "execution_count": 83,
   "metadata": {
    "ExecuteTime": {
     "end_time": "2023-12-12T05:39:25.451926Z",
     "start_time": "2023-12-12T05:39:25.399018Z"
    }
   },
   "outputs": [
    {
     "data": {
      "text/html": [
       "<div>\n",
       "<style scoped>\n",
       "    .dataframe tbody tr th:only-of-type {\n",
       "        vertical-align: middle;\n",
       "    }\n",
       "\n",
       "    .dataframe tbody tr th {\n",
       "        vertical-align: top;\n",
       "    }\n",
       "\n",
       "    .dataframe thead th {\n",
       "        text-align: right;\n",
       "    }\n",
       "</style>\n",
       "<table border=\"1\" class=\"dataframe\">\n",
       "  <thead>\n",
       "    <tr style=\"text-align: right;\">\n",
       "      <th></th>\n",
       "      <th>TradingDay</th>\n",
       "      <th>OpenPrice</th>\n",
       "      <th>HighPrice</th>\n",
       "      <th>LowPrice</th>\n",
       "      <th>ClosePrice</th>\n",
       "      <th>TurnoverVolume</th>\n",
       "      <th>TurnoverValue</th>\n",
       "      <th>AvgPrice</th>\n",
       "      <th>TotalMV</th>\n",
       "      <th>NegotiableMV</th>\n",
       "      <th>Return</th>\n",
       "    </tr>\n",
       "  </thead>\n",
       "  <tbody>\n",
       "    <tr>\n",
       "      <th>0</th>\n",
       "      <td>2015-01-06</td>\n",
       "      <td>0.704338</td>\n",
       "      <td>0.709120</td>\n",
       "      <td>0.670010</td>\n",
       "      <td>0.707771</td>\n",
       "      <td>2.014822</td>\n",
       "      <td>1.930008</td>\n",
       "      <td>0.696756</td>\n",
       "      <td>-0.511968</td>\n",
       "      <td>-0.693998</td>\n",
       "      <td>-0.015095</td>\n",
       "    </tr>\n",
       "    <tr>\n",
       "      <th>1</th>\n",
       "      <td>2015-01-07</td>\n",
       "      <td>0.668012</td>\n",
       "      <td>0.736948</td>\n",
       "      <td>0.656677</td>\n",
       "      <td>0.645570</td>\n",
       "      <td>1.548267</td>\n",
       "      <td>1.551071</td>\n",
       "      <td>0.691633</td>\n",
       "      <td>-0.557227</td>\n",
       "      <td>-0.733502</td>\n",
       "      <td>-0.019194</td>\n",
       "    </tr>\n",
       "    <tr>\n",
       "      <th>2</th>\n",
       "      <td>2015-01-08</td>\n",
       "      <td>0.592766</td>\n",
       "      <td>0.595280</td>\n",
       "      <td>0.590012</td>\n",
       "      <td>0.567819</td>\n",
       "      <td>1.141346</td>\n",
       "      <td>1.183760</td>\n",
       "      <td>0.576401</td>\n",
       "      <td>-0.614779</td>\n",
       "      <td>-0.783734</td>\n",
       "      <td>-0.034169</td>\n",
       "    </tr>\n",
       "    <tr>\n",
       "      <th>3</th>\n",
       "      <td>2015-01-09</td>\n",
       "      <td>0.577197</td>\n",
       "      <td>0.529505</td>\n",
       "      <td>0.483348</td>\n",
       "      <td>0.433051</td>\n",
       "      <td>0.824489</td>\n",
       "      <td>0.893755</td>\n",
       "      <td>0.477318</td>\n",
       "      <td>-0.717230</td>\n",
       "      <td>-0.873155</td>\n",
       "      <td>0.007989</td>\n",
       "    </tr>\n",
       "    <tr>\n",
       "      <th>4</th>\n",
       "      <td>2015-01-12</td>\n",
       "      <td>0.421514</td>\n",
       "      <td>0.605399</td>\n",
       "      <td>0.432682</td>\n",
       "      <td>0.464151</td>\n",
       "      <td>1.794404</td>\n",
       "      <td>1.693472</td>\n",
       "      <td>0.522257</td>\n",
       "      <td>-0.693275</td>\n",
       "      <td>-0.852247</td>\n",
       "      <td>-0.020771</td>\n",
       "    </tr>\n",
       "  </tbody>\n",
       "</table>\n",
       "</div>"
      ],
      "text/plain": [
       "  TradingDay  OpenPrice  HighPrice  LowPrice  ClosePrice  TurnoverVolume  \\\n",
       "0 2015-01-06   0.704338   0.709120  0.670010    0.707771        2.014822   \n",
       "1 2015-01-07   0.668012   0.736948  0.656677    0.645570        1.548267   \n",
       "2 2015-01-08   0.592766   0.595280  0.590012    0.567819        1.141346   \n",
       "3 2015-01-09   0.577197   0.529505  0.483348    0.433051        0.824489   \n",
       "4 2015-01-12   0.421514   0.605399  0.432682    0.464151        1.794404   \n",
       "\n",
       "   TurnoverValue  AvgPrice   TotalMV  NegotiableMV    Return  \n",
       "0       1.930008  0.696756 -0.511968     -0.693998 -0.015095  \n",
       "1       1.551071  0.691633 -0.557227     -0.733502 -0.019194  \n",
       "2       1.183760  0.576401 -0.614779     -0.783734 -0.034169  \n",
       "3       0.893755  0.477318 -0.717230     -0.873155  0.007989  \n",
       "4       1.693472  0.522257 -0.693275     -0.852247 -0.020771  "
      ]
     },
     "execution_count": 83,
     "metadata": {},
     "output_type": "execute_result"
    }
   ],
   "source": [
    "# 取对数\n",
    "for i in [ 'TurnoverVolume', 'TurnoverValue', 'TotalMV', 'NegotiableMV' ]:\n",
    "    stock[i] = stock[i].apply(lambda x: np.log(x) if x > 0 else x)\n",
    "    \n",
    "# 计算回报率return\n",
    "stock['Return'] = np.log(stock['ClosePrice'] / stock['ClosePrice'].shift(1))\n",
    "stock['Return'].fillna(0, inplace=True)\n",
    "\n",
    "# 确定特征列和目标列\n",
    "Xcols = [ 'TurnoverVolume','TurnoverValue','TotalMV','NegotiableMV','OpenPrice','HighPrice','LowPrice','ClosePrice','AvgPrice']\n",
    "ycols = ['Return']\n",
    "\n",
    "# 数据标准化\n",
    "transfer = StandardScaler()\n",
    "for var in Xcols:\n",
    "    stock[var] = transfer.fit_transform(stock[var].values.reshape(-1, 1))\n",
    "    \n",
    "# 解释变量滞后一期\n",
    "for var in Xcols:\n",
    "    stock[var] = stock[var].shift(1)\n",
    "    \n",
    "# 删除缺失值行\n",
    "stock.dropna(inplace=True)\n",
    "\n",
    "# 重置索引\n",
    "stock.reset_index(drop=True, inplace=True)\n",
    "\n",
    "stock.head()"
   ]
  },
  {
   "cell_type": "code",
   "execution_count": 84,
   "metadata": {
    "ExecuteTime": {
     "end_time": "2023-12-12T05:39:30.001815Z",
     "start_time": "2023-12-12T05:39:29.992596Z"
    }
   },
   "outputs": [
    {
     "data": {
      "text/plain": [
       "((1641, 9), (1641,))"
      ]
     },
     "execution_count": 84,
     "metadata": {},
     "output_type": "execute_result"
    }
   ],
   "source": [
    "X = stock[Xcols].values\n",
    "y = stock[ycols].values.ravel()\n",
    "\n",
    "X.shape, y.shape"
   ]
  },
  {
   "cell_type": "markdown",
   "metadata": {},
   "source": [
    "# 自定义算子"
   ]
  },
  {
   "cell_type": "code",
   "execution_count": 85,
   "metadata": {
    "ExecuteTime": {
     "end_time": "2023-12-12T05:39:33.981806Z",
     "start_time": "2023-12-12T05:39:33.955336Z"
    }
   },
   "outputs": [],
   "source": [
    "def _ts_max(data): # 历史滚动最大\n",
    "    with np.errstate(divide ='ignore', invalid='ignore', over='ignore'):\n",
    "        df = pd.DataFrame({'0':data})\n",
    "        value = df['0'].rolling(10).max()\n",
    "        return np.nan_to_num(value.values)\n",
    "    \n",
    "def _ts_min(data): # 历史滚动最小\n",
    "    with np.errstate(divide ='ignore', invalid='ignore', over='ignore'):\n",
    "        df = pd.DataFrame({'0':data})\n",
    "        value = df['0'].rolling(10).min()\n",
    "        return np.nan_to_num(value.values)\n",
    "\n",
    "def _ts_std(data): # 历史滚动标准差\n",
    "    with np.errstate(divide ='ignore', invalid='ignore', over='ignore'):\n",
    "        df = pd.DataFrame({'0':data})\n",
    "        value = df['0'].rolling(10).std()\n",
    "        return np.nan_to_num(value.values)\n",
    "\n",
    "def _ts_rank(data): # 历史滚动排名\n",
    "    with np.errstate(divide ='ignore', invalid='ignore', over='ignore'):\n",
    "        df = pd.DataFrame({'0':data})\n",
    "        value = df['0'].rolling(10).apply(lambda x: rankdata(x)[-1],raw=True)    \n",
    "        return np.nan_to_num(value.values)\n",
    "\n",
    "def _ts_argmax(data): # 历史滚动最大值距离\n",
    "    with np.errstate(divide ='ignore', invalid='ignore', over='ignore'):\n",
    "        df = pd.DataFrame({'0':data})\n",
    "        value = df['0'].rolling(10).apply(lambda x: 10-np.argmax(x)-1,raw=True)\n",
    "        return np.nan_to_num(value.values)\n",
    "\n",
    "def _ts_argmin(data): # 历史滚动最小值距离\n",
    "    with np.errstate(divide ='ignore', invalid='ignore', over='ignore'):\n",
    "        df = pd.DataFrame({'0':data})\n",
    "        value = df['0'].rolling(10).apply(lambda x: 10-np.argmin(x)-1,raw=True)\n",
    "        return np.nan_to_num(value.values)\n",
    "\n",
    "def _ts_corr(df1,df2): # 历史滚动相关系数\n",
    "    with np.errstate(divide ='ignore', invalid='ignore', over='ignore'):\n",
    "        df = pd.DataFrame({'0':df1,'1':df2})\n",
    "        value = df[['0','1']].rolling(10).corr()\n",
    "        value.index.names = ['index','key']\n",
    "        value = value.query('key==\\'0\\'')['1']\n",
    "        return np.nan_to_num(value.values)\n",
    "\n",
    "def _ts_cov(df1,df2): # 历史滚动协方差\n",
    "    with np.errstate(divide ='ignore', invalid='ignore', over='ignore'):\n",
    "        df = pd.DataFrame({'0':df1,'1':df2})\n",
    "        value = df[['0','1']].rolling(10).cov()\n",
    "        value.index.names = ['index','key']\n",
    "        value = value.query('key==\\'0\\'')['1']\n",
    "        return np.nan_to_num(value.values)\n",
    "\n",
    "def _ts_sum(data): # 历史滚动求和\n",
    "    with np.errstate(divide ='ignore', invalid='ignore', over='ignore'):\n",
    "        df = pd.DataFrame({'0':data})\n",
    "        value = df['0'].rolling(10).sum()\n",
    "        return np.nan_to_num(value.values)\n",
    "\n",
    "def _ts_prod(data): # 历史滚动累乘\n",
    "    with np.errstate(divide ='ignore', invalid='ignore', over='ignore'):\n",
    "        df = pd.DataFrame({'0':data})\n",
    "        value = df['0'].rolling(10).apply(lambda x: x.prod(),raw=True)\n",
    "        return np.nan_to_num(value.values)\n",
    "\n",
    "def _ts_delay(data): # 滞后\n",
    "    with np.errstate(divide ='ignore', invalid='ignore', over='ignore'):\n",
    "        df = pd.DataFrame({'0':data})\n",
    "        value = df['0'].shift(10)\n",
    "        return np.nan_to_num(value.values)\n",
    "\n",
    "def _ts_delta(data): # 滞后差值\n",
    "    with np.errstate(divide ='ignore', invalid='ignore', over='ignore'):\n",
    "        df = pd.DataFrame({'0':data})\n",
    "        delay = df['0'].shift(10).values\n",
    "        value = df['0'].values-delay    \n",
    "        return np.nan_to_num(value)\n",
    "\n",
    "def _ts_wma(data): # 历史滚动加权平均\n",
    "    with np.errstate(divide ='ignore', invalid='ignore', over='ignore'):\n",
    "        df = pd.DataFrame({'0':data})\n",
    "        day = np.arange(1,10+1,1)\n",
    "        value = df['0'].rolling(10).apply(lambda x: (x*day/day.sum()).sum(),raw=True)\n",
    "        return np.nan_to_num(value.values)"
   ]
  },
  {
   "cell_type": "code",
   "execution_count": 86,
   "metadata": {
    "ExecuteTime": {
     "end_time": "2023-12-12T05:39:35.977064Z",
     "start_time": "2023-12-12T05:39:35.842355Z"
    }
   },
   "outputs": [],
   "source": [
    "ts_max = make_function(function=_ts_max, name='ts_max', arity=1)\n",
    "ts_min = make_function(function=_ts_min, name='ts_min', arity=1)\n",
    "ts_wma = make_function(function=_ts_wma, name='ts_wma', arity=1)\n",
    "ts_std = make_function(function=_ts_std, name='ts_std', arity=1)\n",
    "ts_rank = make_function(function=_ts_rank, name='ts_rank', arity=1)\n",
    "ts_argmax = make_function(function=_ts_argmax, name='ts_argmax', arity=1)\n",
    "ts_argmin = make_function(function=_ts_argmin, name='ts_argmin', arity=1)\n",
    "ts_corr = make_function(function=_ts_corr, name='ts_corr', arity=2)\n",
    "ts_cov = make_function(function=_ts_cov, name='ts_cov', arity=2)\n",
    "ts_sum = make_function(function=_ts_sum, name='ts_sum', arity=1)\n",
    "ts_prod = make_function(function=_ts_prod, name='ts_prod', arity=1)\n",
    "ts_delay = make_function(function=_ts_delay, name='ts_delay', arity=1)\n",
    "ts_delta = make_function(function=_ts_delta, name='ts_delta', arity=1)\n",
    "\n",
    "custom_function = [ ts_max, ts_min, ts_wma, ts_std, ts_rank, ts_argmax, ts_argmin, ts_corr, \\\n",
    "                   ts_cov, ts_sum, ts_prod, ts_delay, ts_delta ]"
   ]
  },
  {
   "cell_type": "code",
   "execution_count": 87,
   "metadata": {
    "ExecuteTime": {
     "end_time": "2023-12-12T05:39:37.940803Z",
     "start_time": "2023-12-12T05:39:37.936582Z"
    }
   },
   "outputs": [],
   "source": [
    "init_function = ['add', 'sub', 'mul', 'div', 'sqrt', 'log', 'abs', 'neg', 'inv', 'max', 'min', 'sin', 'cos', 'tan' ]"
   ]
  },
  {
   "cell_type": "markdown",
   "metadata": {},
   "source": [
    "# Symbolic Regressor"
   ]
  },
  {
   "cell_type": "code",
   "execution_count": 121,
   "metadata": {
    "ExecuteTime": {
     "end_time": "2023-12-12T15:37:48.308043Z",
     "start_time": "2023-12-12T15:08:00.289227Z"
    }
   },
   "outputs": [
    {
     "name": "stdout",
     "output_type": "stream",
     "text": [
      "CPU times: total: 9min 49s\n",
      "Wall time: 29min 47s\n"
     ]
    }
   ],
   "source": [
    "%%time\n",
    "\n",
    "predictions = []\n",
    "\n",
    "for i in range(len(stock) - 1600):                 \n",
    "    # 获取训练数据\n",
    "    X_train = X[i:i+1600]\n",
    "    y_train = y[i:i+1600]\n",
    "    \n",
    "    # 初始化模型\n",
    "    generations = 3 # 进化世代数\n",
    "    population_size = 1000 # 每一代中的公式数量\n",
    "    tournament_size = 20 # 每一代中被随机选中计算适应度的公式数\n",
    "    const_range = (-10.0,10.0) \n",
    "    function_set = init_function + custom_function # 函数算子\n",
    "    random_state = 1 # 设置随机种子\n",
    "    factor_gp = SymbolicRegressor(feature_names=Xcols, \n",
    "                                    function_set=function_set, \n",
    "                                    generations=generations, \n",
    "                                    population_size=population_size, \n",
    "                                    tournament_size=tournament_size, \n",
    "                                    const_range=const_range, \n",
    "                                    random_state=random_state,\n",
    "                                    metric='mse',             # 设定适应度fitness\n",
    "                                    init_depth=(1,4),\n",
    "                                    p_crossover=0.4,          # 交叉概率\n",
    "                                    p_subtree_mutation=0.01,  # 子树变异概率\n",
    "                                    p_hoist_mutation=0,       # 提升变异概率\n",
    "                                    p_point_mutation=0.01,    # 点变异概率\n",
    "                                    p_point_replace=0.4 )     # 点变异中父代每个节点变异概率 \n",
    "    \n",
    "    # 模型训练和预测\n",
    "    factor_gp.fit(X_train, y_train)\n",
    "    prediction=factor_gp.predict(X[i+1600].reshape(1, -1))\n",
    "    \n",
    "    predictions.append(prediction.item())    "
   ]
  },
  {
   "cell_type": "code",
   "execution_count": 122,
   "metadata": {
    "ExecuteTime": {
     "end_time": "2023-12-12T15:47:10.727286Z",
     "start_time": "2023-12-12T15:47:10.720839Z"
    }
   },
   "outputs": [
    {
     "name": "stdout",
     "output_type": "stream",
     "text": [
      "Mean Squared Forecasting Error (MSFE): 0.0007230980094704057\n"
     ]
    }
   ],
   "source": [
    "# 计算预测误差\n",
    "true_values = y[1600:]\n",
    "msfe = mean_squared_error(true_values, predictions)\n",
    "\n",
    "print(f\"Mean Squared Forecasting Error (MSFE): {msfe}\")"
   ]
  },
  {
   "cell_type": "markdown",
   "metadata": {},
   "source": [
    "# SymbolicTransformer"
   ]
  },
  {
   "cell_type": "code",
   "execution_count": 88,
   "metadata": {
    "ExecuteTime": {
     "end_time": "2023-12-12T05:39:55.978940Z",
     "start_time": "2023-12-12T05:39:55.965299Z"
    }
   },
   "outputs": [
    {
     "data": {
      "text/plain": [
       "((1441, 9), (1441,), (200, 9), (200,))"
      ]
     },
     "execution_count": 88,
     "metadata": {},
     "output_type": "execute_result"
    }
   ],
   "source": [
    "X_train = stock[Xcols].iloc[:1441,:].values\n",
    "y_train = stock[ycols].iloc[:1441,:].values.ravel()\n",
    "X_test = stock[Xcols].iloc[1441:1642,:].values\n",
    "y_test = stock[ycols].iloc[1441:1642,:].values.ravel()\n",
    "\n",
    "X_train.shape, y_train.shape, X_test.shape, y_test.shape"
   ]
  },
  {
   "cell_type": "markdown",
   "metadata": {},
   "source": [
    "## 单独使用Ridge回归"
   ]
  },
  {
   "cell_type": "code",
   "execution_count": 114,
   "metadata": {
    "ExecuteTime": {
     "end_time": "2023-12-12T06:34:52.103749Z",
     "start_time": "2023-12-12T06:34:52.094976Z"
    }
   },
   "outputs": [
    {
     "name": "stdout",
     "output_type": "stream",
     "text": [
      "Ridge's MSFE: 0.0006759091018275882\n",
      "CPU times: total: 0 ns\n",
      "Wall time: 3.01 ms\n"
     ]
    }
   ],
   "source": [
    "%%time\n",
    "\n",
    "from sklearn.linear_model import Ridge\n",
    "\n",
    "# ridge\n",
    "ridge_model = Ridge(alpha=0.1)\n",
    "ridge_model.fit(X_train, y_train)\n",
    "pred = ridge_model.predict(X_test)\n",
    "\n",
    "# 计算预测误差\n",
    "msfe = mean_squared_error(y_test, pred)\n",
    "\n",
    "print(f\"Ridge's MSFE: {msfe}\")"
   ]
  },
  {
   "cell_type": "markdown",
   "metadata": {},
   "source": [
    "## SymbolicTransformer因子挖掘＋Ridge"
   ]
  },
  {
   "cell_type": "code",
   "execution_count": 94,
   "metadata": {
    "ExecuteTime": {
     "end_time": "2023-12-12T05:45:49.687229Z",
     "start_time": "2023-12-12T05:44:57.493303Z"
    }
   },
   "outputs": [
    {
     "name": "stdout",
     "output_type": "stream",
     "text": [
      "    |   Population Average    |             Best Individual              |\n",
      "---- ------------------------- ------------------------------------------ ----------\n",
      " Gen   Length          Fitness   Length          Fitness      OOB Fitness  Time Left\n",
      "   0     4.91        0.0226607        4        0.0887113              N/A     43.44s\n",
      "   1     4.57        0.0449912        4        0.0887113              N/A     24.32s\n",
      "   2     4.43        0.0674172        6         0.102192              N/A      0.00s\n",
      "CPU times: total: 14.3 s\n",
      "Wall time: 52.2 s\n"
     ]
    },
    {
     "data": {
      "text/html": [
       "<style>#sk-container-id-9 {color: black;background-color: white;}#sk-container-id-9 pre{padding: 0;}#sk-container-id-9 div.sk-toggleable {background-color: white;}#sk-container-id-9 label.sk-toggleable__label {cursor: pointer;display: block;width: 100%;margin-bottom: 0;padding: 0.3em;box-sizing: border-box;text-align: center;}#sk-container-id-9 label.sk-toggleable__label-arrow:before {content: \"▸\";float: left;margin-right: 0.25em;color: #696969;}#sk-container-id-9 label.sk-toggleable__label-arrow:hover:before {color: black;}#sk-container-id-9 div.sk-estimator:hover label.sk-toggleable__label-arrow:before {color: black;}#sk-container-id-9 div.sk-toggleable__content {max-height: 0;max-width: 0;overflow: hidden;text-align: left;background-color: #f0f8ff;}#sk-container-id-9 div.sk-toggleable__content pre {margin: 0.2em;color: black;border-radius: 0.25em;background-color: #f0f8ff;}#sk-container-id-9 input.sk-toggleable__control:checked~div.sk-toggleable__content {max-height: 200px;max-width: 100%;overflow: auto;}#sk-container-id-9 input.sk-toggleable__control:checked~label.sk-toggleable__label-arrow:before {content: \"▾\";}#sk-container-id-9 div.sk-estimator input.sk-toggleable__control:checked~label.sk-toggleable__label {background-color: #d4ebff;}#sk-container-id-9 div.sk-label input.sk-toggleable__control:checked~label.sk-toggleable__label {background-color: #d4ebff;}#sk-container-id-9 input.sk-hidden--visually {border: 0;clip: rect(1px 1px 1px 1px);clip: rect(1px, 1px, 1px, 1px);height: 1px;margin: -1px;overflow: hidden;padding: 0;position: absolute;width: 1px;}#sk-container-id-9 div.sk-estimator {font-family: monospace;background-color: #f0f8ff;border: 1px dotted black;border-radius: 0.25em;box-sizing: border-box;margin-bottom: 0.5em;}#sk-container-id-9 div.sk-estimator:hover {background-color: #d4ebff;}#sk-container-id-9 div.sk-parallel-item::after {content: \"\";width: 100%;border-bottom: 1px solid gray;flex-grow: 1;}#sk-container-id-9 div.sk-label:hover label.sk-toggleable__label {background-color: #d4ebff;}#sk-container-id-9 div.sk-serial::before {content: \"\";position: absolute;border-left: 1px solid gray;box-sizing: border-box;top: 0;bottom: 0;left: 50%;z-index: 0;}#sk-container-id-9 div.sk-serial {display: flex;flex-direction: column;align-items: center;background-color: white;padding-right: 0.2em;padding-left: 0.2em;position: relative;}#sk-container-id-9 div.sk-item {position: relative;z-index: 1;}#sk-container-id-9 div.sk-parallel {display: flex;align-items: stretch;justify-content: center;background-color: white;position: relative;}#sk-container-id-9 div.sk-item::before, #sk-container-id-9 div.sk-parallel-item::before {content: \"\";position: absolute;border-left: 1px solid gray;box-sizing: border-box;top: 0;bottom: 0;left: 50%;z-index: -1;}#sk-container-id-9 div.sk-parallel-item {display: flex;flex-direction: column;z-index: 1;position: relative;background-color: white;}#sk-container-id-9 div.sk-parallel-item:first-child::after {align-self: flex-end;width: 50%;}#sk-container-id-9 div.sk-parallel-item:last-child::after {align-self: flex-start;width: 50%;}#sk-container-id-9 div.sk-parallel-item:only-child::after {width: 0;}#sk-container-id-9 div.sk-dashed-wrapped {border: 1px dashed gray;margin: 0 0.4em 0.5em 0.4em;box-sizing: border-box;padding-bottom: 0.4em;background-color: white;}#sk-container-id-9 div.sk-label label {font-family: monospace;font-weight: bold;display: inline-block;line-height: 1.2em;}#sk-container-id-9 div.sk-label-container {text-align: center;}#sk-container-id-9 div.sk-container {/* jupyter's `normalize.less` sets `[hidden] { display: none; }` but bootstrap.min.css set `[hidden] { display: none !important; }` so we also need the `!important` here to be able to override the default hidden behavior on the sphinx rendered scikit-learn.org. See: https://github.com/scikit-learn/scikit-learn/issues/21755 */display: inline-block !important;position: relative;}#sk-container-id-9 div.sk-text-repr-fallback {display: none;}</style><div id=\"sk-container-id-9\" class=\"sk-top-container\"><div class=\"sk-text-repr-fallback\"><pre>[add(ts_delta(AvgPrice), div(HighPrice, LowPrice)),\n",
       " ts_rank(log(sin(ts_argmax(AvgPrice)))),\n",
       " div(HighPrice, LowPrice),\n",
       " log(sin(mul(ts_argmin(ClosePrice), ts_argmax(HighPrice)))),\n",
       " log(sin(ts_argmax(AvgPrice)))]</pre><b>In a Jupyter environment, please rerun this cell to show the HTML representation or trust the notebook. <br />On GitHub, the HTML representation is unable to render, please try loading this page with nbviewer.org.</b></div><div class=\"sk-container\" hidden><div class=\"sk-item\"><div class=\"sk-estimator sk-toggleable\"><input class=\"sk-toggleable__control sk-hidden--visually\" id=\"sk-estimator-id-9\" type=\"checkbox\" checked><label for=\"sk-estimator-id-9\" class=\"sk-toggleable__label sk-toggleable__label-arrow\">SymbolicTransformer</label><div class=\"sk-toggleable__content\"><pre>[add(ts_delta(AvgPrice), div(HighPrice, LowPrice)),\n",
       " ts_rank(log(sin(ts_argmax(AvgPrice)))),\n",
       " div(HighPrice, LowPrice),\n",
       " log(sin(mul(ts_argmin(ClosePrice), ts_argmax(HighPrice)))),\n",
       " log(sin(ts_argmax(AvgPrice)))]</pre></div></div></div></div></div>"
      ],
      "text/plain": [
       "SymbolicTransformer(const_range=(-10.0, 10.0),\n",
       "                    feature_names=['TurnoverVolume', 'TurnoverValue', 'TotalMV',\n",
       "                                   'NegotiableMV', 'OpenPrice', 'HighPrice',\n",
       "                                   'LowPrice', 'ClosePrice', 'AvgPrice'],\n",
       "                    function_set=['add', 'sub', 'mul', 'div', 'sqrt', 'log',\n",
       "                                  'abs', 'neg', 'inv', 'max', 'min', 'sin',\n",
       "                                  'cos', 'tan',\n",
       "                                  <gplearn.functions._Function object at 0x0000027B62D3F8D0>,\n",
       "                                  <gplearn.function...\n",
       "                                  <gplearn.functions._Function object at 0x0000027B3E246BD0>,\n",
       "                                  <gplearn.functions._Function object at 0x0000027B3CBB1A90>,\n",
       "                                  <gplearn.functions._Function object at 0x0000027B3C6BD090>,\n",
       "                                  <gplearn.functions._Function object at 0x0000027B3E4A2610>],\n",
       "                    generations=3, init_depth=(1, 4), metric='spearman',\n",
       "                    n_components=5, p_crossover=0.4, p_hoist_mutation=0,\n",
       "                    p_point_replace=0.4, parsimony_coefficient=0.0005,\n",
       "                    random_state=1, verbose=1)"
      ]
     },
     "execution_count": 94,
     "metadata": {},
     "output_type": "execute_result"
    }
   ],
   "source": [
    "%%time\n",
    "\n",
    "generations = 3 # 进化世代数\n",
    "population_size = 1000 # 每一代中的公式数量\n",
    "tournament_size = 20 # 每一代中被随机选中计算适应度的公式数\n",
    "const_range = (-10.0,10.0) \n",
    "function_set = init_function + custom_function # 函数算子\n",
    "random_state = 1 # 设置随机种子\n",
    "factor_gp2 = SymbolicTransformer(feature_names=Xcols, \n",
    "                                function_set=function_set, \n",
    "                                generations=generations, \n",
    "                                population_size=population_size, \n",
    "                                tournament_size=tournament_size, \n",
    "                                const_range=const_range, \n",
    "                                random_state=random_state,\n",
    "                                parsimony_coefficient=0.0005,  # 惩罚项\n",
    "                                metric='spearman',        # 设定适应度fitness\n",
    "                                n_components=5,           # 因子挖掘个数\n",
    "                                init_depth=(1,4),\n",
    "                                verbose=1,\n",
    "                                p_crossover=0.4,          # 交叉概率\n",
    "                                p_subtree_mutation=0.01,  # 子树变异概率\n",
    "                                p_hoist_mutation=0,       # 提升变异概率\n",
    "                                p_point_mutation=0.01,    # 点变异概率\n",
    "                                p_point_replace=0.4 )     # 点变异中父代每个节点变异概率 \n",
    "factor_gp2.fit(X_train, y_train)"
   ]
  },
  {
   "cell_type": "code",
   "execution_count": 126,
   "metadata": {
    "ExecuteTime": {
     "end_time": "2023-12-12T15:56:35.090975Z",
     "start_time": "2023-12-12T15:56:35.073140Z"
    }
   },
   "outputs": [
    {
     "data": {
      "text/html": [
       "<div>\n",
       "<style scoped>\n",
       "    .dataframe tbody tr th:only-of-type {\n",
       "        vertical-align: middle;\n",
       "    }\n",
       "\n",
       "    .dataframe tbody tr th {\n",
       "        vertical-align: top;\n",
       "    }\n",
       "\n",
       "    .dataframe thead th {\n",
       "        text-align: right;\n",
       "    }\n",
       "</style>\n",
       "<table border=\"1\" class=\"dataframe\">\n",
       "  <thead>\n",
       "    <tr style=\"text-align: right;\">\n",
       "      <th></th>\n",
       "      <th>fitness</th>\n",
       "      <th>expression</th>\n",
       "      <th>depth</th>\n",
       "      <th>length</th>\n",
       "    </tr>\n",
       "  </thead>\n",
       "  <tbody>\n",
       "    <tr>\n",
       "      <th>alpha_1</th>\n",
       "      <td>0.099192</td>\n",
       "      <td>add(ts_delta(AvgPrice), div(HighPrice, LowPrice))</td>\n",
       "      <td>2</td>\n",
       "      <td>6</td>\n",
       "    </tr>\n",
       "    <tr>\n",
       "      <th>alpha_2</th>\n",
       "      <td>0.096116</td>\n",
       "      <td>ts_rank(log(sin(ts_argmax(AvgPrice))))</td>\n",
       "      <td>4</td>\n",
       "      <td>5</td>\n",
       "    </tr>\n",
       "    <tr>\n",
       "      <th>alpha_3</th>\n",
       "      <td>0.090575</td>\n",
       "      <td>div(HighPrice, LowPrice)</td>\n",
       "      <td>1</td>\n",
       "      <td>3</td>\n",
       "    </tr>\n",
       "    <tr>\n",
       "      <th>alpha_4</th>\n",
       "      <td>0.087471</td>\n",
       "      <td>log(sin(mul(ts_argmin(ClosePrice), ts_argmax(H...</td>\n",
       "      <td>4</td>\n",
       "      <td>7</td>\n",
       "    </tr>\n",
       "    <tr>\n",
       "      <th>alpha_5</th>\n",
       "      <td>0.086711</td>\n",
       "      <td>log(sin(ts_argmax(AvgPrice)))</td>\n",
       "      <td>3</td>\n",
       "      <td>4</td>\n",
       "    </tr>\n",
       "  </tbody>\n",
       "</table>\n",
       "</div>"
      ],
      "text/plain": [
       "          fitness                                         expression depth  \\\n",
       "alpha_1  0.099192  add(ts_delta(AvgPrice), div(HighPrice, LowPrice))     2   \n",
       "alpha_2  0.096116             ts_rank(log(sin(ts_argmax(AvgPrice))))     4   \n",
       "alpha_3  0.090575                           div(HighPrice, LowPrice)     1   \n",
       "alpha_4  0.087471  log(sin(mul(ts_argmin(ClosePrice), ts_argmax(H...     4   \n",
       "alpha_5  0.086711                      log(sin(ts_argmax(AvgPrice)))     3   \n",
       "\n",
       "        length  \n",
       "alpha_1      6  \n",
       "alpha_2      5  \n",
       "alpha_3      3  \n",
       "alpha_4      7  \n",
       "alpha_5      4  "
      ]
     },
     "execution_count": 126,
     "metadata": {},
     "output_type": "execute_result"
    }
   ],
   "source": [
    "best_programs = factor_gp2._best_programs\n",
    "best_programs_dict = {}\n",
    "for p in best_programs:\n",
    "    factor_name = 'alpha_'+str(best_programs.index(p)+1)\n",
    "    best_programs_dict[factor_name] = {'fitness':p.fitness_, 'expression':str(p), 'depth':p.depth_, 'length':p.length_}\n",
    "best_programs_dict = pd.DataFrame(best_programs_dict).T\n",
    "best_programs_dict = best_programs_dict.sort_values(by='fitness',ascending=False)\n",
    "best_programs_dict"
   ]
  },
  {
   "cell_type": "code",
   "execution_count": 96,
   "metadata": {
    "ExecuteTime": {
     "end_time": "2023-12-12T05:46:45.534250Z",
     "start_time": "2023-12-12T05:46:45.317046Z"
    }
   },
   "outputs": [
    {
     "data": {
      "text/plain": [
       "((1441, 14), (200, 14))"
      ]
     },
     "execution_count": 96,
     "metadata": {},
     "output_type": "execute_result"
    }
   ],
   "source": [
    "gp_features = factor_gp2.transform(X)          # 生成新特征\n",
    "gp_X = np.hstack( (X, gp_features))            # 合并\n",
    "gp_X_train = gp_X[:1441,:]\n",
    "gp_X_test = gp_X[1441:1642,:]\n",
    "\n",
    "gp_X_train.shape, gp_X_test.shape"
   ]
  },
  {
   "cell_type": "code",
   "execution_count": 115,
   "metadata": {
    "ExecuteTime": {
     "end_time": "2023-12-12T06:35:28.566098Z",
     "start_time": "2023-12-12T06:35:28.557375Z"
    }
   },
   "outputs": [
    {
     "name": "stdout",
     "output_type": "stream",
     "text": [
      "Ridge's MSFE: 0.0006733253033652069\n"
     ]
    }
   ],
   "source": [
    "# ridge\n",
    "ridge_model = Ridge(alpha=0.1)\n",
    "ridge_model.fit(gp_X_train, y_train)\n",
    "pred = ridge_model.predict(gp_X_test)\n",
    "\n",
    "# 计算预测误差\n",
    "msfe = mean_squared_error(y_test, pred)\n",
    "\n",
    "print(f\"Ridge's MSFE: {msfe}\")"
   ]
  },
  {
   "cell_type": "markdown",
   "metadata": {},
   "source": [
    "## 实证应用-样本内"
   ]
  },
  {
   "cell_type": "code",
   "execution_count": 123,
   "metadata": {
    "ExecuteTime": {
     "end_time": "2023-12-12T15:47:23.774434Z",
     "start_time": "2023-12-12T15:47:23.756163Z"
    }
   },
   "outputs": [
    {
     "name": "stdout",
     "output_type": "stream",
     "text": [
      "adjusted_r2: 0.008934392318252438\n"
     ]
    }
   ],
   "source": [
    "# ridge\n",
    "ridge_model = Ridge(alpha=0.1)\n",
    "ridge_model.fit(X, y)\n",
    "r2 = ridge_model.score(X, y)\n",
    "n = len(y)  # 样本数量\n",
    "k = X.shape[1]  # 特征数量\n",
    "adjusted_r2 = 1 - ((1 - r2) * (n - 1) / (n - k - 1))\n",
    "print(\"adjusted_r2:\",adjusted_r2)"
   ]
  },
  {
   "cell_type": "code",
   "execution_count": 124,
   "metadata": {
    "ExecuteTime": {
     "end_time": "2023-12-12T15:49:23.428914Z",
     "start_time": "2023-12-12T15:49:23.415882Z"
    }
   },
   "outputs": [
    {
     "name": "stdout",
     "output_type": "stream",
     "text": [
      "adjusted_r2: 0.021167078671585737\n"
     ]
    }
   ],
   "source": [
    "# ridge\n",
    "ridge_model = Ridge(alpha=0.1)\n",
    "ridge_model.fit(gp_X, y)\n",
    "r2 = ridge_model.score(gp_X, y)\n",
    "n = len(y)  # 样本数量\n",
    "k = gp_X.shape[1]  # 特征数量\n",
    "adjusted_r2 = 1 - ((1 - r2) * (n - 1) / (n - k - 1))\n",
    "print(\"adjusted_r2:\",adjusted_r2)"
   ]
  }
 ],
 "metadata": {
  "kernelspec": {
   "display_name": "ptpy311",
   "language": "python",
   "name": "ptpy311"
  },
  "language_info": {
   "codemirror_mode": {
    "name": "ipython",
    "version": 3
   },
   "file_extension": ".py",
   "mimetype": "text/x-python",
   "name": "python",
   "nbconvert_exporter": "python",
   "pygments_lexer": "ipython3",
   "version": "3.11.5"
  },
  "toc": {
   "base_numbering": 1,
   "nav_menu": {},
   "number_sections": true,
   "sideBar": true,
   "skip_h1_title": false,
   "title_cell": "Table of Contents",
   "title_sidebar": "Contents",
   "toc_cell": false,
   "toc_position": {},
   "toc_section_display": true,
   "toc_window_display": false
  },
  "varInspector": {
   "cols": {
    "lenName": 16,
    "lenType": 16,
    "lenVar": 40
   },
   "kernels_config": {
    "python": {
     "delete_cmd_postfix": "",
     "delete_cmd_prefix": "del ",
     "library": "var_list.py",
     "varRefreshCmd": "print(var_dic_list())"
    },
    "r": {
     "delete_cmd_postfix": ") ",
     "delete_cmd_prefix": "rm(",
     "library": "var_list.r",
     "varRefreshCmd": "cat(var_dic_list()) "
    }
   },
   "types_to_exclude": [
    "module",
    "function",
    "builtin_function_or_method",
    "instance",
    "_Feature"
   ],
   "window_display": false
  }
 },
 "nbformat": 4,
 "nbformat_minor": 1
}
